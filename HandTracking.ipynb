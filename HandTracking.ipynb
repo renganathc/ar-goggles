{
 "cells": [
  {
   "cell_type": "code",
   "execution_count": 1,
   "id": "379cb71f",
   "metadata": {},
   "outputs": [],
   "source": [
    "import cv2\n",
    "import mediapipe as mp"
   ]
  },
  {
   "cell_type": "code",
   "execution_count": 2,
   "id": "f0814351",
   "metadata": {},
   "outputs": [
    {
     "name": "stderr",
     "output_type": "stream",
     "text": [
      "WARNING: All log messages before absl::InitializeLog() is called are written to STDERR\n",
      "I0000 00:00:1757425051.253811  388401 gl_context_egl.cc:85] Successfully initialized EGL. Major : 1 Minor: 5\n",
      "I0000 00:00:1757425051.341303  389990 gl_context.cc:369] GL version: 3.2 (OpenGL ES 3.2 NVIDIA 575.64.03), renderer: NVIDIA GeForce RTX 5070 Laptop GPU/PCIe/SSE2\n"
     ]
    },
    {
     "name": "stderr",
     "output_type": "stream",
     "text": [
      "INFO: Created TensorFlow Lite XNNPACK delegate for CPU.\n"
     ]
    }
   ],
   "source": [
    "cam = cv2.VideoCapture(0,cv2.CAP_V4L2)\n",
    "cam.set(cv2.CAP_PROP_FRAME_WIDTH,600)\n",
    "cam.set(cv2.CAP_PROP_FRAME_HEIGHT,500)\n",
    "mphands = mp.solutions.hands\n",
    "mpdrawing = mp.solutions.drawing_utils\n",
    "hand = mphands.Hands()"
   ]
  },
  {
   "cell_type": "code",
   "execution_count": null,
   "id": "3d55538b",
   "metadata": {},
   "outputs": [
    {
     "name": "stderr",
     "output_type": "stream",
     "text": [
      "W0000 00:00:1757425051.382006  389967 inference_feedback_manager.cc:114] Feedback manager requires a model with a single signature inference. Disabling support for feedback tensors.\n",
      "W0000 00:00:1757425051.409433  389987 inference_feedback_manager.cc:114] Feedback manager requires a model with a single signature inference. Disabling support for feedback tensors.\n",
      "W0000 00:00:1757425052.936298  389968 landmark_projection_calculator.cc:186] Using NORM_RECT without IMAGE_DIMENSIONS is only supported for the square ROI. Provide IMAGE_DIMENSIONS or use PROJECTION_MATRIX.\n"
     ]
    }
   ],
   "source": [
    "while True:\n",
    "\tsuccess,frame = cam.read()\n",
    "\tif success:\n",
    "\t\tRGB = cv2.cvtColor(frame,cv2.COLOR_BGR2RGB)\n",
    "\t\tresult = hand.process(RGB)\n",
    "\t\tif result.multi_hand_landmarks:\n",
    "\t\t\tfor HandLandmarks in result.multi_hand_landmarks:\n",
    "\t\t\t\tmpdrawing.draw_landmarks(frame,HandLandmarks,mphands.HAND_CONNECTIONS)\n",
    "\t\tcv2.imshow(\"VideoFeed\",frame)\n",
    "\t\tif cv2.waitKey(1) == ord('q'):\n",
    "\t\t\tbreak\n",
    "\n",
    "cam.release()\n",
    "cv2.destroyAllWindows()"
   ]
  }
 ],
 "metadata": {
  "kernelspec": {
   "display_name": "venv",
   "language": "python",
   "name": "python3"
  },
  "language_info": {
   "codemirror_mode": {
    "name": "ipython",
    "version": 3
   },
   "file_extension": ".py",
   "mimetype": "text/x-python",
   "name": "python",
   "nbconvert_exporter": "python",
   "pygments_lexer": "ipython3",
   "version": "3.10.18"
  }
 },
 "nbformat": 4,
 "nbformat_minor": 5
}
