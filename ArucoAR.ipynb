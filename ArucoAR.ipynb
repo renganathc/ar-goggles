{
 "cells": [
  {
   "cell_type": "code",
   "execution_count": 4,
   "id": "13d4191b",
   "metadata": {},
   "outputs": [
    {
     "name": "stdout",
     "output_type": "stream",
     "text": [
      "✅ Success! The ArUco module is installed and working correctly.\n"
     ]
    }
   ],
   "source": [
    "import cv2\n",
    "import numpy as np\n",
    "\n",
    "try:\n",
    "    # This line will fail if the ArUco module is missing\n",
    "    aruco_dict = cv2.aruco.getPredefinedDictionary(cv2.aruco.DICT_6X6_250)\n",
    "    aruco_params = cv2.aruco.DetectorParameters()\n",
    "    print(\"✅ Success! The ArUco module is installed and working correctly.\")\n",
    "except AttributeError:\n",
    "    print(\"❌ Failed! The 'aruco' attribute was not found in your cv2 installation.\")"
   ]
  },
  {
   "cell_type": "code",
   "execution_count": 5,
   "id": "27da5058",
   "metadata": {},
   "outputs": [],
   "source": [
    "def DrawBoxes(frame,corners):\n",
    "\tTopLeft = corners[0][0]\n",
    "\tTopRight = corners[0][1]\n",
    "\n",
    "\tMarkerWidth = np.linalg.norm(TopLeft-TopRight)\n",
    "\n",
    "\tWidth = int(MarkerWidth/2)\n",
    "\tHeight = int(MarkerWidth)\n",
    "\tGap = int(MarkerWidth/3)\n",
    "\n",
    "\tStartX = int(TopLeft[0] - Gap - Width)\n",
    "\tStartY = int(TopLeft[0])\n",
    "\n",
    "\tfor i in range(3):\n",
    "\t\tBoxTopLeft = (StartX - i*(Width+Gap),StartY)\n",
    "\t\tBoxBottomRight = (BoxTopLeft[0]+Width , StartY+Height)\n",
    "\n",
    "\t\tcv2.rectangle(frame,BoxTopLeft,BoxBottomRight ,(192,242,30),2)\n",
    "\n",
    "\treturn frame"
   ]
  },
  {
   "cell_type": "code",
   "execution_count": 6,
   "id": "91481b7e",
   "metadata": {},
   "outputs": [],
   "source": [
    "cam = cv2.VideoCapture(0,cv2.CAP_V4L2)\n",
    "if not cam.isOpened():\n",
    "\tprint(\"Cannot Open Camera\")\n",
    "\texit()\n",
    "\n",
    "while True:\n",
    "\tsuccess,frame = cam.read()\n",
    "\tif not success:\n",
    "\t\tprint(\"No Frame\")\n",
    "\t\tbreak\n",
    "\tgray = cv2.cvtColor(frame,cv2.COLOR_BGR2GRAY)\n",
    "\tcorners,ids,rejected = cv2.aruco.detectMarkers(gray,aruco_dict,parameters=aruco_params)\n",
    "\n",
    "\tif ids is not None:\n",
    "\t\tcv2.aruco.drawDetectedMarkers(frame,corners,ids)\n",
    "\t\tframe = DrawBoxes(frame,corners[0])\n",
    "\n",
    "\tcv2.imshow(\"VideoFeed\",frame)\n",
    "\n",
    "\tif cv2.waitKey(1) == ord('q'):\n",
    "\t\tbreak\n",
    "\n",
    "cam.release()\n",
    "cv2.destroyAllWindows()"
   ]
  }
 ],
 "metadata": {
  "kernelspec": {
   "display_name": "venv",
   "language": "python",
   "name": "python3"
  },
  "language_info": {
   "codemirror_mode": {
    "name": "ipython",
    "version": 3
   },
   "file_extension": ".py",
   "mimetype": "text/x-python",
   "name": "python",
   "nbconvert_exporter": "python",
   "pygments_lexer": "ipython3",
   "version": "3.10.18"
  }
 },
 "nbformat": 4,
 "nbformat_minor": 5
}
