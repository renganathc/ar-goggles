{
 "cells": [
  {
   "cell_type": "code",
   "execution_count": 1,
   "id": "299773c5",
   "metadata": {},
   "outputs": [],
   "source": [
    "import cv2\n",
    "import mediapipe"
   ]
  },
  {
   "cell_type": "code",
   "execution_count": 2,
   "id": "42a6e170",
   "metadata": {},
   "outputs": [],
   "source": [
    "mp_hands = mediapipe.solutions.hands\n",
    "mp_drawing = mediapipe.solutions.drawing_utils"
   ]
  },
  {
   "cell_type": "code",
   "execution_count": 3,
   "id": "7cfced71",
   "metadata": {},
   "outputs": [],
   "source": [
    "video = cv2.VideoCapture(0)"
   ]
  },
  {
   "cell_type": "code",
   "execution_count": null,
   "id": "e700179d",
   "metadata": {},
   "outputs": [
    {
     "name": "stderr",
     "output_type": "stream",
     "text": [
      "WARNING: All log messages before absl::InitializeLog() is called are written to STDERR\n",
      "I0000 00:00:1757400317.959818  151017 gl_context.cc:369] GL version: 2.1 (2.1 Metal - 89.4), renderer: Apple M3\n",
      "INFO: Created TensorFlow Lite XNNPACK delegate for CPU.\n",
      "W0000 00:00:1757400317.970441  151252 inference_feedback_manager.cc:114] Feedback manager requires a model with a single signature inference. Disabling support for feedback tensors.\n",
      "W0000 00:00:1757400317.977950  151252 inference_feedback_manager.cc:114] Feedback manager requires a model with a single signature inference. Disabling support for feedback tensors.\n",
      "W0000 00:00:1757400318.280650  151254 landmark_projection_calculator.cc:186] Using NORM_RECT without IMAGE_DIMENSIONS is only supported for the square ROI. Provide IMAGE_DIMENSIONS or use PROJECTION_MATRIX.\n"
     ]
    }
   ],
   "source": [
    "hands_method = mp_hands.Hands(max_num_hands=1)\n",
    "\n",
    "while True:\n",
    "    res, frame = video.read()\n",
    "\n",
    "    frame2 = frame.copy()\n",
    "\n",
    "    frame = cv2.cvtColor(frame, cv2.COLOR_BGR2RGB)\n",
    "    frame = cv2.resize(frame, (200, 140))\n",
    "    result = hands_method.process(frame)\n",
    "\n",
    "    if result.multi_hand_landmarks:\n",
    "        for landmark in result.multi_hand_landmarks:\n",
    "            mp_drawing.draw_landmarks(frame2, landmark, connections=mp_hands.HAND_CONNECTIONS)\n",
    "\n",
    "    cv2.imshow(\"vid\", frame2)\n",
    "\n",
    "    if cv2.waitKey(1) & 0xFF == ord('q'):\n",
    "        break\n",
    "\n",
    "hands_method.close()\n",
    "video.release()\n",
    "cv2.destroyAllWindows()"
   ]
  }
 ],
 "metadata": {
  "kernelspec": {
   "display_name": "testenv",
   "language": "python",
   "name": "python3"
  },
  "language_info": {
   "codemirror_mode": {
    "name": "ipython",
    "version": 3
   },
   "file_extension": ".py",
   "mimetype": "text/x-python",
   "name": "python",
   "nbconvert_exporter": "python",
   "pygments_lexer": "ipython3",
   "version": "3.10.18"
  }
 },
 "nbformat": 4,
 "nbformat_minor": 5
}
